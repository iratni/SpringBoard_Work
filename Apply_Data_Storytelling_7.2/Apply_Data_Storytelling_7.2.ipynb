{
 "cells": [
  {
   "cell_type": "markdown",
   "metadata": {},
   "source": [
    "# Apply Data Storytelling. Section 7.3"
   ]
  },
  {
   "cell_type": "code",
   "execution_count": 2,
   "metadata": {},
   "outputs": [],
   "source": [
    "from branca.element import Figure\n",
    "import pygeohash as gh\n",
    "import folium\n",
    "from folium import plugins\n",
    "import googlemaps\n",
    "from googlemaps import convert\n",
    "from geopy.geocoders import Nominatim\n",
    "from pygeocoder import Geocoder\n",
    "from geopy.distance import vincenty\n",
    "from collections import Counter \n",
    "from bs4 import BeautifulSoup\n",
    "import urllib.request\n",
    "import datetime\n",
    "import json\n",
    "import numpy as np\n",
    "import scipy.stats\n",
    "import pandas as pd\n",
    "import matplotlib\n",
    "import matplotlib.pyplot as pp\n",
    "import pandas.plotting\n",
    "from IPython import display\n",
    "from ipywidgets import interact, widgets\n",
    "import re\n",
    "import csv\n",
    "import datetime\n",
    "import googlemaps\n",
    "%matplotlib inline\n",
    "#from mpl_toolkits.basemap import Basemap\n",
    "#from collections import defauldict"
   ]
  },
  {
   "cell_type": "code",
   "execution_count": 11,
   "metadata": {},
   "outputs": [],
   "source": [
    "df = pd.read_csv('train.csv')"
   ]
  },
  {
   "cell_type": "code",
   "execution_count": 19,
   "metadata": {},
   "outputs": [
    {
     "name": "stdout",
     "output_type": "stream",
     "text": [
      "<class 'pandas.core.frame.DataFrame'>\n",
      "RangeIndex: 1458644 entries, 0 to 1458643\n",
      "Data columns (total 15 columns):\n",
      "id                    1458644 non-null object\n",
      "vendor_id             1458644 non-null int64\n",
      "pickup_datetime       1458644 non-null object\n",
      "dropoff_datetime      1458644 non-null object\n",
      "passenger_count       1458644 non-null int64\n",
      "pickup_longitude      1458644 non-null float64\n",
      "pickup_latitude       1458644 non-null float64\n",
      "dropoff_longitude     1458644 non-null float64\n",
      "dropoff_latitude      1458644 non-null float64\n",
      "store_and_fwd_flag    1458644 non-null object\n",
      "trip_duration         1458644 non-null int64\n",
      "GeoHash_Pick          1458644 non-null object\n",
      "GeoHash_Drop          1458644 non-null object\n",
      "Place_Pick            1458644 non-null object\n",
      "Place_Drop            1458644 non-null object\n",
      "dtypes: float64(4), int64(3), object(8)\n",
      "memory usage: 166.9+ MB\n"
     ]
    }
   ],
   "source": [
    "df.info()"
   ]
  },
  {
   "cell_type": "code",
   "execution_count": 3,
   "metadata": {},
   "outputs": [
    {
     "data": {
      "text/html": [
       "<div>\n",
       "<style scoped>\n",
       "    .dataframe tbody tr th:only-of-type {\n",
       "        vertical-align: middle;\n",
       "    }\n",
       "\n",
       "    .dataframe tbody tr th {\n",
       "        vertical-align: top;\n",
       "    }\n",
       "\n",
       "    .dataframe thead th {\n",
       "        text-align: right;\n",
       "    }\n",
       "</style>\n",
       "<table border=\"1\" class=\"dataframe\">\n",
       "  <thead>\n",
       "    <tr style=\"text-align: right;\">\n",
       "      <th></th>\n",
       "      <th>id</th>\n",
       "      <th>vendor_id</th>\n",
       "      <th>pickup_datetime</th>\n",
       "      <th>dropoff_datetime</th>\n",
       "      <th>passenger_count</th>\n",
       "      <th>pickup_longitude</th>\n",
       "      <th>pickup_latitude</th>\n",
       "      <th>dropoff_longitude</th>\n",
       "      <th>dropoff_latitude</th>\n",
       "      <th>store_and_fwd_flag</th>\n",
       "      <th>trip_duration</th>\n",
       "    </tr>\n",
       "  </thead>\n",
       "  <tbody>\n",
       "    <tr>\n",
       "      <th>0</th>\n",
       "      <td>id2875421</td>\n",
       "      <td>2</td>\n",
       "      <td>2016-03-14 17:24:55</td>\n",
       "      <td>2016-03-14 17:32:30</td>\n",
       "      <td>1</td>\n",
       "      <td>-73.982155</td>\n",
       "      <td>40.767937</td>\n",
       "      <td>-73.964630</td>\n",
       "      <td>40.765602</td>\n",
       "      <td>N</td>\n",
       "      <td>455</td>\n",
       "    </tr>\n",
       "    <tr>\n",
       "      <th>1</th>\n",
       "      <td>id2377394</td>\n",
       "      <td>1</td>\n",
       "      <td>2016-06-12 00:43:35</td>\n",
       "      <td>2016-06-12 00:54:38</td>\n",
       "      <td>1</td>\n",
       "      <td>-73.980415</td>\n",
       "      <td>40.738564</td>\n",
       "      <td>-73.999481</td>\n",
       "      <td>40.731152</td>\n",
       "      <td>N</td>\n",
       "      <td>663</td>\n",
       "    </tr>\n",
       "    <tr>\n",
       "      <th>2</th>\n",
       "      <td>id3858529</td>\n",
       "      <td>2</td>\n",
       "      <td>2016-01-19 11:35:24</td>\n",
       "      <td>2016-01-19 12:10:48</td>\n",
       "      <td>1</td>\n",
       "      <td>-73.979027</td>\n",
       "      <td>40.763939</td>\n",
       "      <td>-74.005333</td>\n",
       "      <td>40.710087</td>\n",
       "      <td>N</td>\n",
       "      <td>2124</td>\n",
       "    </tr>\n",
       "    <tr>\n",
       "      <th>3</th>\n",
       "      <td>id3504673</td>\n",
       "      <td>2</td>\n",
       "      <td>2016-04-06 19:32:31</td>\n",
       "      <td>2016-04-06 19:39:40</td>\n",
       "      <td>1</td>\n",
       "      <td>-74.010040</td>\n",
       "      <td>40.719971</td>\n",
       "      <td>-74.012268</td>\n",
       "      <td>40.706718</td>\n",
       "      <td>N</td>\n",
       "      <td>429</td>\n",
       "    </tr>\n",
       "    <tr>\n",
       "      <th>4</th>\n",
       "      <td>id2181028</td>\n",
       "      <td>2</td>\n",
       "      <td>2016-03-26 13:30:55</td>\n",
       "      <td>2016-03-26 13:38:10</td>\n",
       "      <td>1</td>\n",
       "      <td>-73.973053</td>\n",
       "      <td>40.793209</td>\n",
       "      <td>-73.972923</td>\n",
       "      <td>40.782520</td>\n",
       "      <td>N</td>\n",
       "      <td>435</td>\n",
       "    </tr>\n",
       "  </tbody>\n",
       "</table>\n",
       "</div>"
      ],
      "text/plain": [
       "          id  vendor_id      pickup_datetime     dropoff_datetime  \\\n",
       "0  id2875421          2  2016-03-14 17:24:55  2016-03-14 17:32:30   \n",
       "1  id2377394          1  2016-06-12 00:43:35  2016-06-12 00:54:38   \n",
       "2  id3858529          2  2016-01-19 11:35:24  2016-01-19 12:10:48   \n",
       "3  id3504673          2  2016-04-06 19:32:31  2016-04-06 19:39:40   \n",
       "4  id2181028          2  2016-03-26 13:30:55  2016-03-26 13:38:10   \n",
       "\n",
       "   passenger_count  pickup_longitude  pickup_latitude  dropoff_longitude  \\\n",
       "0                1        -73.982155        40.767937         -73.964630   \n",
       "1                1        -73.980415        40.738564         -73.999481   \n",
       "2                1        -73.979027        40.763939         -74.005333   \n",
       "3                1        -74.010040        40.719971         -74.012268   \n",
       "4                1        -73.973053        40.793209         -73.972923   \n",
       "\n",
       "   dropoff_latitude store_and_fwd_flag  trip_duration  \n",
       "0         40.765602                  N            455  \n",
       "1         40.731152                  N            663  \n",
       "2         40.710087                  N           2124  \n",
       "3         40.706718                  N            429  \n",
       "4         40.782520                  N            435  "
      ]
     },
     "execution_count": 3,
     "metadata": {},
     "output_type": "execute_result"
    }
   ],
   "source": [
    "df.head()"
   ]
  },
  {
   "cell_type": "markdown",
   "metadata": {},
   "source": [
    "# Q1-Ask the following questions and look for the answers using code and plots"
   ]
  },
  {
   "cell_type": "markdown",
   "metadata": {},
   "source": [
    "1-Can you count something interesting?"
   ]
  },
  {
   "cell_type": "markdown",
   "metadata": {},
   "source": [
    "Answer: I would like to know the volume of the trips picked up from Manhattan and also dropped in Manhattan.\n",
    "In order to do this, we need to do some geohashing to figure out where the trip was picked up and dropped off exactly. I will use geohashing coordinates to do this.\n"
   ]
  },
  {
   "cell_type": "code",
   "execution_count": 12,
   "metadata": {},
   "outputs": [
    {
     "name": "stderr",
     "output_type": "stream",
     "text": [
      "//anaconda3/lib/python3.7/site-packages/ipykernel_launcher.py:5: DeprecationWarning: Vincenty is deprecated and is going to be removed in geopy 2.0. Use `geopy.distance.geodesic` (or the default `geopy.distance.distance`) instead, which is more accurate and always converges.\n",
      "  \"\"\"\n"
     ]
    }
   ],
   "source": [
    "# Function that calculates the distance from the geocoordinates.\n",
    "def distance(x1, y1, x2, y2):\n",
    "    dist = []\n",
    "    for i in range(len(x1)):\n",
    "        dist.append(vincenty((x1[i], y1[i]), (x2[i], y2[i])).miles)\n",
    "    return dist\n",
    "\n",
    "#Applying the distance function\n",
    "df['Geo_Distance/mi'] = distance(df.pickup_latitude, df.pickup_longitude, \n",
    "                                 df.dropoff_latitude, df.dropoff_longitude)"
   ]
  },
  {
   "cell_type": "code",
   "execution_count": 26,
   "metadata": {},
   "outputs": [],
   "source": [
    "# Function that calculates the Speed Using the Geodistance/Not the driving ditance.\n",
    "def speed(X, Y):\n",
    "    spd = []\n",
    "    for i in range(len(X)):\n",
    "        spd.append(float((X[i]*3600)/Y[i]))\n",
    "    return spd\n",
    "\n",
    "#Applying the Speed function\n",
    "df['Geo_Speed(mi/h)'] = speed(df['Geo_Distance/mi'], df['trip_duration'])"
   ]
  },
  {
   "cell_type": "code",
   "execution_count": 14,
   "metadata": {},
   "outputs": [],
   "source": [
    "#Creating a Columns for the GeoHash Coordinates\n",
    "df['GeoHash_Pick']=df.apply(lambda x: gh.encode(x.pickup_latitude, x.pickup_longitude, precision=6), axis=1)\n",
    "df['GeoHash_Drop']=df.apply(lambda x: gh.encode(x.dropoff_latitude, x.dropoff_longitude, precision=6), axis=1)"
   ]
  },
  {
   "cell_type": "code",
   "execution_count": 15,
   "metadata": {},
   "outputs": [],
   "source": [
    "#GeoHashing Coordinates\n",
    "Manhattan = ['dr5rec', 'dr5re9', 'dr5red', 'dr5ref', 'dr5ree', 'dr5reg', 'dr5rs5', 'dr5rs4', 'dr5res',\n",
    " 'dr5reu', 'dr5rsh', 'dr5rs7', 'dr5rse', 'dr5rsj', 'dr5rsm', 'dr5rst', 'dr5rsh', 'dr5rsk', \n",
    " 'dr5rss', 'dr5rev', 'dr5reu', 'dr5rez', 'dr5rsp', 'dr5rsr', 'dr5rey', 'dr5rsn', 'dr5rsq', \n",
    "'dr5rsx', 'dr5rsw', 'dr5ru1', 'dr5ru3', 'dr5ru9', 'dr5ru0', 'dr5ru2', 'dr5ru8', 'dr5rgc', \n",
    " 'dr5rgb', 'dr5rgg', 'dr5ru5', 'dr5ru7', 'dr5rgf', 'dr5ru4', 'dr5ru6', 'dr5ruh', 'dr5ruk', \n",
    " 'dr5rus', 'dr5rue', 'dr5rud', 'dr5rug', 'dr5ruf', 'dr5ruu', 'dr5rvh', 'dr5ruw', 'dr5ruy', \n",
    " 'dr5rvn', 'dr5rut', 'dr5ruv', 'dr5rvj', 'dr5ruq', 'dr5rum', 'dr5ruj', 'dr5run', 'dr5rvq', \n",
    " 'dr72hb', 'dr72j0', 'dr72j2', 'dr5ruz', 'dr5rvp', 'dr5rvr', 'dr72h8', 'dr5rux', 'dr72h2', \n",
    "'dr5rur', 'dr72hd', 'dr72hf', 'dr72j4', 'dr72h9', 'dr72hc', 'dr72j1', 'dr72j6', 'dr72j3', \n",
    "'dr72j9', 'dr72jd', 'dr72jh', 'dr72jk', 'dr72js', 'dr72j5', 'dr72j7', 'dr72je', 'dr72hg', \n",
    "'dr72hu', 'dr72he', 'dr72hs']\n",
    "LGA_Airport = ['dr5ryx', 'dr5ryz', 'dr5rzp', 'dr5ryw', 'dr5ryy', 'dr5rzn', 'dr5rzj', 'dr5rzm',\n",
    "              'dr5rzq', ]\n",
    "JFK_Airport = ['dr5x0r', 'dr5x0x', 'dr5x0w', 'dr5x0z', 'dr5x0y', 'dr5x0v', 'dr5x1n', 'dr5x1j', \n",
    "              'dr5x1p', 'dr5x28', 'dr5x2b', 'dr5x30', 'dr5x29', 'dr5x2c', 'dr5x31', 'dr5x22', \n",
    "               'dr5x23', 'dr5x24', 'dr5x26', 'dr5x2d', 'dr5x2f']"
   ]
  },
  {
   "cell_type": "code",
   "execution_count": 16,
   "metadata": {},
   "outputs": [],
   "source": [
    "#Creating a column for the pick up place\n",
    "df['Place_Pick'] = df.apply(lambda x: 'Manhattan' if x['GeoHash_Pick'] in Manhattan \n",
    "                            else 'JFK Airport' if x['GeoHash_Pick'] in JFK_Airport \n",
    "                            else 'LGA Airport' if x['GeoHash_Pick'] in LGA_Airport\n",
    "                            else 'other', axis=1)"
   ]
  },
  {
   "cell_type": "code",
   "execution_count": 17,
   "metadata": {},
   "outputs": [],
   "source": [
    "#Creating a column for the drop-off place\n",
    "df['Place_Drop'] = df.apply(lambda x: 'Manhattan' if x['GeoHash_Drop'] in Manhattan \n",
    "                            else 'JFK Airport' if x['GeoHash_Drop'] in JFK_Airport \n",
    "                            else 'LGA Airport' if x['GeoHash_Drop'] in LGA_Airport\n",
    "                            else 'other', axis=1)"
   ]
  },
  {
   "cell_type": "code",
   "execution_count": 18,
   "metadata": {},
   "outputs": [
    {
     "data": {
      "text/plain": [
       "1332647"
      ]
     },
     "execution_count": 18,
     "metadata": {},
     "output_type": "execute_result"
    }
   ],
   "source": [
    "#Creating a df for trips picked up from Manhattan only (the island)\n",
    "Manhattan_Pick_df = df[df.Place_Pick == 'Manhattan']\n",
    "len(Manhattan_Pick_df)"
   ]
  },
  {
   "cell_type": "code",
   "execution_count": 19,
   "metadata": {},
   "outputs": [
    {
     "data": {
      "text/plain": [
       "1259912"
      ]
     },
     "execution_count": 19,
     "metadata": {},
     "output_type": "execute_result"
    }
   ],
   "source": [
    "#Creating a df for trips dropped off in Manhattan only (the island)\n",
    "Manhattan_Drop_df = df[df.Place_Drop == 'Manhattan']\n",
    "len(Manhattan_Drop_df)"
   ]
  },
  {
   "cell_type": "code",
   "execution_count": 20,
   "metadata": {},
   "outputs": [
    {
     "data": {
      "text/plain": [
       "1198921"
      ]
     },
     "execution_count": 20,
     "metadata": {},
     "output_type": "execute_result"
    }
   ],
   "source": [
    "#Creating a df for trips picked up and dropped off in Manhattan only (the island)\n",
    "Pick_Drop_Manhattan = df[(df.Place_Drop == 'Manhattan') & (df.Place_Pick == 'Manhattan')]\n",
    "len(Pick_Drop_Manhattan)"
   ]
  },
  {
   "cell_type": "markdown",
   "metadata": {},
   "source": [
    "The tripped picked up and dropped off in Manhattan seem to be the biggest chunck of our data with 1198921 trips.\n"
   ]
  },
  {
   "cell_type": "markdown",
   "metadata": {},
   "source": [
    "2-Can you find trends (e.g. high, low, increasing, decreasing, anomalies)?"
   ]
  },
  {
   "cell_type": "markdown",
   "metadata": {},
   "source": [
    "3-Can you make a bar plot or a histogram?"
   ]
  },
  {
   "cell_type": "markdown",
   "metadata": {},
   "source": [
    "Answer: I will try to find out when are the busiest hour of the day by seperating the trips picked up in each hour. This will be answered by a bar plot."
   ]
  },
  {
   "cell_type": "code",
   "execution_count": 21,
   "metadata": {},
   "outputs": [
    {
     "name": "stderr",
     "output_type": "stream",
     "text": [
      "//anaconda3/lib/python3.7/site-packages/pandas/core/generic.py:5096: SettingWithCopyWarning: \n",
      "A value is trying to be set on a copy of a slice from a DataFrame.\n",
      "Try using .loc[row_indexer,col_indexer] = value instead\n",
      "\n",
      "See the caveats in the documentation: http://pandas.pydata.org/pandas-docs/stable/indexing.html#indexing-view-versus-copy\n",
      "  self[name] = value\n"
     ]
    }
   ],
   "source": [
    "Pick_Drop_Manhattan.pickup_datetime = pd.to_datetime(Pick_Drop_Manhattan.pickup_datetime)"
   ]
  },
  {
   "cell_type": "code",
   "execution_count": 22,
   "metadata": {},
   "outputs": [],
   "source": [
    "#Pick_Drop_Manhattan.pickup_datetime = pd.to_datetime(Pick_Drop_Manhattan.pickup_datetime)\n",
    "Pick_Drop_Manhattan.set_index('pickup_datetime',inplace=True)"
   ]
  },
  {
   "cell_type": "code",
   "execution_count": 23,
   "metadata": {},
   "outputs": [
    {
     "data": {
      "text/plain": [
       "<matplotlib.axes._subplots.AxesSubplot at 0x1a38b7d390>"
      ]
     },
     "execution_count": 23,
     "metadata": {},
     "output_type": "execute_result"
    },
    {
     "data": {
      "image/png": "[encoded data removed]",
      "text/plain": [
       "<Figure size 432x288 with 1 Axes>"
      ]
     },
     "metadata": {
      "needs_background": "light"
     },
     "output_type": "display_data"
    }
   ],
   "source": [
    "by_hour = Pick_Drop_Manhattan.groupby(Pick_Drop_Manhattan.index.strftime('%H'))\n",
    "by_hour['id'].count().plot.bar()"
   ]
  },
  {
   "cell_type": "markdown",
   "metadata": {},
   "source": [
    "We can see from the plot that 6PM and 7PM are the busiest hours of the day, and 4AM and 5AM are the slowest hours of the day."
   ]
  },
  {
   "cell_type": "markdown",
   "metadata": {},
   "source": [
    "4-Can you compare two related quantities?"
   ]
  },
  {
   "cell_type": "markdown",
   "metadata": {},
   "source": [
    "5-Can you make a scatterplot?"
   ]
  },
  {
   "cell_type": "markdown",
   "metadata": {},
   "source": [
    "Answer: I will compare the distance and the speed. I'm going to try to find out if the speed increases or decreases for short and long distances.\n",
    "For this, I will have to first create calculate the distance using Folium."
   ]
  },
  {
   "cell_type": "code",
   "execution_count": 28,
   "metadata": {},
   "outputs": [
    {
     "data": {
      "text/plain": [
       "<matplotlib.axes._subplots.AxesSubplot at 0x1a38b0ff28>"
      ]
     },
     "execution_count": 28,
     "metadata": {},
     "output_type": "execute_result"
    },
    {
     "data": {
      "image/png": "[encoded data removed]",
      "text/plain": [
       "<Figure size 432x288 with 1 Axes>"
      ]
     },
     "metadata": {
      "needs_background": "light"
     },
     "output_type": "display_data"
    }
   ],
   "source": [
    "Pick_Drop_Manhattan.plot(kind='scatter', x='Geo_Distance/mi', y='Geo_Speed(mi/h)')"
   ]
  },
  {
   "cell_type": "markdown",
   "metadata": {},
   "source": [
    "# Q2-Looking at the plots, what are some insights you can make? Do you see any correlations? Is there a hypothesis you’d like to investigate further? What other questions do the insights lead you to ask?"
   ]
  },
  {
   "cell_type": "markdown",
   "metadata": {},
   "source": [
    "Looking at the plot, I can see that there are a lot of outliers. There is no way a trip's speed is almost 600mi/h or 0mi/h. I can notice that there is a slight correllation between the distance and the speed. I would like to investigate the average of the speed by hour of the day and the average of the speed by Geohashing pick up location."
   ]
  },
  {
   "cell_type": "markdown",
   "metadata": {},
   "source": [
    "# Q3-Now that you’ve asked questions, hopefully you’ve found some interesting insights. Is there a narrative or a way of presenting the insights using text and plots that tells a compelling story? What are some other trends/relationships you think will make the story more complete?"
   ]
  },
  {
   "cell_type": "markdown",
   "metadata": {},
   "source": [
    "Ploting the data on a New York map should be a great way to present the data and give a better insight on the area that have slower and faster trips."
   ]
  },
  {
   "cell_type": "code",
   "execution_count": null,
   "metadata": {},
   "outputs": [],
   "source": []
  }
 ],
 "metadata": {
  "kernelspec": {
   "display_name": "Python 3",
   "language": "python",
   "name": "python3"
  },
  "language_info": {
   "codemirror_mode": {
    "name": "ipython",
    "version": 3
   },
   "file_extension": ".py",
   "mimetype": "text/x-python",
   "name": "python",
   "nbconvert_exporter": "python",
   "pygments_lexer": "ipython3",
   "version": "3.7.3"
  }
 },
 "nbformat": 4,
 "nbformat_minor": 2
}
